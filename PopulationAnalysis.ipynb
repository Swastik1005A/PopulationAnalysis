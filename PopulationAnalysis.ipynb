{
 "cells": [
  {
   "cell_type": "code",
   "execution_count": 1,
   "id": "db0fee2c-2256-485c-96b9-c2e86bff0b20",
   "metadata": {},
   "outputs": [
    {
     "name": "stdout",
     "output_type": "stream",
     "text": [
      "🔍 Dataset Overview\n",
      "\n",
      "Shape:\n",
      " (228, 8)\n",
      "\n",
      "Columns:\n",
      " Index(['District', 'Geograpical Area (Sq.Kms)', 'Population Density', 'Male',\n",
      "       'Female', ' Total', 'Percentage Share to Total Population', 'Rank'],\n",
      "      dtype='object')\n",
      "\n",
      "Districts:\n",
      " 0           Chikkodi\n",
      "1             Athani\n",
      "2             Raibag\n",
      "3              Gokak\n",
      "4            Hukkeri\n",
      "           ...      \n",
      "223         Shorapur\n",
      "224    Gurumithakala\n",
      "225         Vadagera\n",
      "226         Hunisigi\n",
      "227      State Total\n",
      "Name: District, Length: 228, dtype: object\n"
     ]
    }
   ],
   "source": [
    "import pandas as pd\n",
    "import matplotlib.pyplot as plt\n",
    "import seaborn as sns\n",
    "\n",
    "df = pd.read_csv(\"Area_Population_Density_and_Population_2011_Census.csv\")\n",
    "\n",
    "print(\"🔍 Dataset Overview\")\n",
    "print(f\"\\nShape:\\n {df.shape}\")\n",
    "print(f\"\\nColumns:\\n {df.columns}\")\n",
    "print(f\"\\nDistricts:\\n {df['District']}\")"
   ]
  },
  {
   "cell_type": "code",
   "execution_count": 5,
   "id": "204993a6-9a60-4405-bf50-1fe5de286d87",
   "metadata": {},
   "outputs": [
    {
     "name": "stdout",
     "output_type": "stream",
     "text": [
      "\n",
      "📈 Data Quality Report\n",
      "====================================================================================================\n",
      "      Missing Data  Missing Data%\n",
      "Rank             1       0.438596\n",
      "\n",
      "📊 Key Statistics:\n",
      "\n",
      "No.of Districts:\n",
      " 228\n",
      "\n",
      "Total Population of Males:\n",
      " 30966657\n",
      "\n",
      "Total Population of Females:\n",
      " 30128640\n",
      "\n",
      "Total Geographical Area (In Sq.Kms):\n",
      " 191791\n",
      "\n",
      "Total Entire Propulation:\n",
      " 61095297\n"
     ]
    }
   ],
   "source": [
    "print(\"\\n📈 Data Quality Report\")\n",
    "print(\"=\" * 100)\n",
    "missing_data = df.isnull().sum()\n",
    "missing_data_percentage = (missing_data / len(df)) * 100\n",
    "quality_report = pd.DataFrame(\n",
    "    {\n",
    "        'Missing Data' : missing_data ,\n",
    "        'Missing Data%' : missing_data_percentage\n",
    "    }\n",
    "    \n",
    ").sort_values('Missing Data%' , ascending = False)\n",
    "print(quality_report[quality_report['Missing Data%']  > 0])\n",
    "\n",
    "print(f\"\\n📊 Key Statistics:\")\n",
    "print(f\"\\nNo.of Districts:\\n {len(df['District'])}\")\n",
    "print(f\"\\nTotal Population of Males:\\n {df['Male'].iloc[:-1].sum()}\")\n",
    "print(f\"\\nTotal Population of Females:\\n {df['Female'].iloc[:-1].sum()}\")\n",
    "print(f\"\\nTotal Geographical Area (In Sq.Kms):\\n {df['Geograpical Area (Sq.Kms)'].iloc[:-1].sum()}\")\n",
    "print(f\"\\nTotal Entire Propulation:\\n {df[' Total'].iloc[:-1].sum()}\")"
   ]
  },
  {
   "cell_type": "code",
   "execution_count": 18,
   "id": "41fe2830-f0c4-4db5-99a0-d98cc9b06407",
   "metadata": {},
   "outputs": [
    {
     "name": "stdout",
     "output_type": "stream",
     "text": [
      "\n",
      "📊Exploratory Data Analysis\n",
      "======================================================================================================================================================\n",
      "              District    Total\n",
      "164  Bangalore (North)  4713430\n",
      "165    Bangalore-South  2408161\n",
      "167     Bangalore-East  1332972\n",
      "======================================================================================================================================================\n"
     ]
    },
    {
     "data": {
      "image/png": "[encoded data removed]",
      "text/plain": [
       "<Figure size 800x500 with 1 Axes>"
      ]
     },
     "metadata": {},
     "output_type": "display_data"
    }
   ],
   "source": [
    "print(\"\\n📊Exploratory Data Analysis\")\n",
    "print(\"=\" * 150) \n",
    "#-----------------------------------------------------------------------------------------------------------------------------------------------------\n",
    "df_excluding_last = df.iloc[:-1]\n",
    "top3 = df_excluding_last.nlargest(3, ' Total')[['District', ' Total']]\n",
    "print(top3)\n",
    "print(\"=\" * 150)\n",
    "plt.figure(figsize = (8 , 5))\n",
    "sns.barplot(data = top3 , x = 'District' , y = ' Total' , palette='viridis' , hue = 'District')\n",
    "plt.title(\"BARPLOT FOR TOP 3 DISTRICT VS TOTAL POPULATION\")\n",
    "plt.xlabel('District')\n",
    "plt.ylabel('Total Population')\n",
    "plt.tight_layout()\n",
    "plt.show()"
   ]
  },
  {
   "cell_type": "code",
   "execution_count": null,
   "id": "f10107ac-a188-4bc4-afc0-7935354fc2b6",
   "metadata": {},
   "outputs": [],
   "source": []
  }
 ],
 "metadata": {
  "kernelspec": {
   "display_name": "Python 3 (ipykernel)",
   "language": "python",
   "name": "python3"
  },
  "language_info": {
   "codemirror_mode": {
    "name": "ipython",
    "version": 3
   },
   "file_extension": ".py",
   "mimetype": "text/x-python",
   "name": "python",
   "nbconvert_exporter": "python",
   "pygments_lexer": "ipython3",
   "version": "3.13.2"
  }
 },
 "nbformat": 4,
 "nbformat_minor": 5
}
